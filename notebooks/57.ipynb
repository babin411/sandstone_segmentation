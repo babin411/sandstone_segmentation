{
 "cells": [
  {
   "cell_type": "code",
   "execution_count": 1,
   "id": "increasing-return",
   "metadata": {},
   "outputs": [],
   "source": [
    "import cv2\n",
    "import pandas as pd\n",
    "import numpy as np"
   ]
  },
  {
   "cell_type": "code",
   "execution_count": 30,
   "id": "conceptual-hobby",
   "metadata": {},
   "outputs": [],
   "source": [
    "from skimage.filters.rank import entropy\n",
    "from skimage.morphology import disk\n",
    "from skimage.filters import sobel"
   ]
  },
  {
   "cell_type": "code",
   "execution_count": 26,
   "id": "diverse-anderson",
   "metadata": {},
   "outputs": [],
   "source": [
    "from scipy import ndimage as nd"
   ]
  },
  {
   "cell_type": "code",
   "execution_count": 2,
   "id": "right-bangladesh",
   "metadata": {},
   "outputs": [],
   "source": [
    "import os"
   ]
  },
  {
   "cell_type": "code",
   "execution_count": 3,
   "id": "actual-northwest",
   "metadata": {},
   "outputs": [],
   "source": [
    "path = os.getcwd()"
   ]
  },
  {
   "cell_type": "code",
   "execution_count": 4,
   "id": "crude-delaware",
   "metadata": {},
   "outputs": [],
   "source": [
    "path = ('\\\\').join(path.split('\\\\')[:-1])"
   ]
  },
  {
   "cell_type": "code",
   "execution_count": 5,
   "id": "metric-camel",
   "metadata": {},
   "outputs": [],
   "source": [
    "path = path+'\\\\data\\\\external\\\\Train_images\\\\'"
   ]
  },
  {
   "cell_type": "code",
   "execution_count": 6,
   "id": "phantom-fighter",
   "metadata": {},
   "outputs": [
    {
     "data": {
      "text/plain": [
       "'D:\\\\KU\\\\7th Sem\\\\Machine Learning\\\\Project\\\\sandstone_segmentation\\\\data\\\\external\\\\Train_images\\\\'"
      ]
     },
     "execution_count": 6,
     "metadata": {},
     "output_type": "execute_result"
    }
   ],
   "source": [
    "path"
   ]
  },
  {
   "cell_type": "code",
   "execution_count": 68,
   "id": "covered-command",
   "metadata": {},
   "outputs": [],
   "source": [
    "df = pd.DataFrame()"
   ]
  },
  {
   "cell_type": "code",
   "execution_count": 14,
   "id": "earned-stadium",
   "metadata": {},
   "outputs": [],
   "source": [
    "def load_images_from_folder(path):\n",
    "    images = []\n",
    "    for image in os.listdir(path):\n",
    "        img = cv2.imread(os.path.join(path, image))\n",
    "        if img is not None:\n",
    "            images.append(img)\n",
    "    return images"
   ]
  },
  {
   "cell_type": "code",
   "execution_count": 15,
   "id": "technical-drawing",
   "metadata": {},
   "outputs": [],
   "source": [
    "images = load_images_from_folder(path)"
   ]
  },
  {
   "cell_type": "code",
   "execution_count": 55,
   "id": "fantastic-manchester",
   "metadata": {},
   "outputs": [
    {
     "data": {
      "text/plain": [
       "(1024, 996, 3)"
      ]
     },
     "execution_count": 55,
     "metadata": {},
     "output_type": "execute_result"
    }
   ],
   "source": [
    "images[0].shape"
   ]
  },
  {
   "cell_type": "code",
   "execution_count": 56,
   "id": "noticed-gather",
   "metadata": {},
   "outputs": [],
   "source": [
    "img2 = images[0].copy()"
   ]
  },
  {
   "cell_type": "code",
   "execution_count": 59,
   "id": "dental-albania",
   "metadata": {},
   "outputs": [
    {
     "data": {
      "text/plain": [
       "(3059712,)"
      ]
     },
     "execution_count": 59,
     "metadata": {},
     "output_type": "execute_result"
    }
   ],
   "source": [
    "img2.reshape(-1).shape"
   ]
  },
  {
   "cell_type": "code",
   "execution_count": 69,
   "id": "chubby-improvement",
   "metadata": {},
   "outputs": [],
   "source": [
    "for image in images:\n",
    "#     print(len(image.reshape(-1)))\n",
    "    imgGray = cv2.cvtColor(image, cv2.COLOR_BGR2GRAY)\n",
    "    imgGray1d = imgGray.reshape(-1)\n",
    "#     print(len(imgGray1d))\n",
    "#     break\n",
    "    \n",
    "    entropy_img  = entropy(imgGray, disk(1) )\n",
    "    entropy1d = entropy_img.reshape(-1)\n",
    "#     print(len(entropy1d))\n",
    "#     break\n",
    "    gaussian_img = nd.gaussian_filter(imgGray, sigma = 3)\n",
    "    gaussian1d = gaussian_img.reshape(-1)\n",
    "#     print(len(gaussian1d))\n",
    "#     break\n",
    "    \n",
    "    sobel_img = sobel(imgGray)\n",
    "    sobel1d = sobel_img.reshape(-1)\n",
    "#     print(len(sobel1d))\n",
    "#     break\n",
    "    \n",
    "    df['Original Pixel Values'] = imgGray1d\n",
    "    df['Entropy'] = entropy1d\n",
    "    df['Gaussian'] = gaussian1d\n",
    "    df['sobel'] = sobel1d\n",
    "    \n",
    "    cv2.imshow('Original Image', image)\n",
    "    cv2.imshow('Gray Image', imgGray)\n",
    "    cv2.imshow('Entropy Image', entropy_img)\n",
    "    cv2.imshow('Gaussian Image', gaussian_img)\n",
    "    cv2.imshow('Sobel Filtered Image', sobel_img)\n",
    "    cv2.waitKey(0)\n",
    "#     break\n",
    "    \n",
    "cv2.destroyAllWindows()"
   ]
  },
  {
   "cell_type": "code",
   "execution_count": 67,
   "id": "taken-attraction",
   "metadata": {},
   "outputs": [
    {
     "data": {
      "text/html": [
       "<div>\n",
       "<style scoped>\n",
       "    .dataframe tbody tr th:only-of-type {\n",
       "        vertical-align: middle;\n",
       "    }\n",
       "\n",
       "    .dataframe tbody tr th {\n",
       "        vertical-align: top;\n",
       "    }\n",
       "\n",
       "    .dataframe thead th {\n",
       "        text-align: right;\n",
       "    }\n",
       "</style>\n",
       "<table border=\"1\" class=\"dataframe\">\n",
       "  <thead>\n",
       "    <tr style=\"text-align: right;\">\n",
       "      <th></th>\n",
       "      <th>Original Pixel Values</th>\n",
       "      <th>Entropy</th>\n",
       "      <th>Gaussian</th>\n",
       "      <th>sobel</th>\n",
       "    </tr>\n",
       "  </thead>\n",
       "  <tbody>\n",
       "    <tr>\n",
       "      <th>0</th>\n",
       "      <td>0</td>\n",
       "      <td>0.0</td>\n",
       "      <td>0</td>\n",
       "      <td>0.0</td>\n",
       "    </tr>\n",
       "    <tr>\n",
       "      <th>1</th>\n",
       "      <td>0</td>\n",
       "      <td>0.0</td>\n",
       "      <td>0</td>\n",
       "      <td>0.0</td>\n",
       "    </tr>\n",
       "    <tr>\n",
       "      <th>2</th>\n",
       "      <td>0</td>\n",
       "      <td>0.0</td>\n",
       "      <td>0</td>\n",
       "      <td>0.0</td>\n",
       "    </tr>\n",
       "    <tr>\n",
       "      <th>3</th>\n",
       "      <td>0</td>\n",
       "      <td>0.0</td>\n",
       "      <td>0</td>\n",
       "      <td>0.0</td>\n",
       "    </tr>\n",
       "    <tr>\n",
       "      <th>4</th>\n",
       "      <td>0</td>\n",
       "      <td>0.0</td>\n",
       "      <td>0</td>\n",
       "      <td>0.0</td>\n",
       "    </tr>\n",
       "    <tr>\n",
       "      <th>...</th>\n",
       "      <td>...</td>\n",
       "      <td>...</td>\n",
       "      <td>...</td>\n",
       "      <td>...</td>\n",
       "    </tr>\n",
       "    <tr>\n",
       "      <th>1019899</th>\n",
       "      <td>0</td>\n",
       "      <td>0.0</td>\n",
       "      <td>0</td>\n",
       "      <td>0.0</td>\n",
       "    </tr>\n",
       "    <tr>\n",
       "      <th>1019900</th>\n",
       "      <td>0</td>\n",
       "      <td>0.0</td>\n",
       "      <td>0</td>\n",
       "      <td>0.0</td>\n",
       "    </tr>\n",
       "    <tr>\n",
       "      <th>1019901</th>\n",
       "      <td>0</td>\n",
       "      <td>0.0</td>\n",
       "      <td>0</td>\n",
       "      <td>0.0</td>\n",
       "    </tr>\n",
       "    <tr>\n",
       "      <th>1019902</th>\n",
       "      <td>0</td>\n",
       "      <td>0.0</td>\n",
       "      <td>0</td>\n",
       "      <td>0.0</td>\n",
       "    </tr>\n",
       "    <tr>\n",
       "      <th>1019903</th>\n",
       "      <td>0</td>\n",
       "      <td>0.0</td>\n",
       "      <td>0</td>\n",
       "      <td>0.0</td>\n",
       "    </tr>\n",
       "  </tbody>\n",
       "</table>\n",
       "<p>1019904 rows × 4 columns</p>\n",
       "</div>"
      ],
      "text/plain": [
       "         Original Pixel Values  Entropy  Gaussian  sobel\n",
       "0                            0      0.0         0    0.0\n",
       "1                            0      0.0         0    0.0\n",
       "2                            0      0.0         0    0.0\n",
       "3                            0      0.0         0    0.0\n",
       "4                            0      0.0         0    0.0\n",
       "...                        ...      ...       ...    ...\n",
       "1019899                      0      0.0         0    0.0\n",
       "1019900                      0      0.0         0    0.0\n",
       "1019901                      0      0.0         0    0.0\n",
       "1019902                      0      0.0         0    0.0\n",
       "1019903                      0      0.0         0    0.0\n",
       "\n",
       "[1019904 rows x 4 columns]"
      ]
     },
     "execution_count": 67,
     "metadata": {},
     "output_type": "execute_result"
    }
   ],
   "source": [
    "df"
   ]
  },
  {
   "cell_type": "code",
   "execution_count": null,
   "id": "tropical-grade",
   "metadata": {},
   "outputs": [],
   "source": []
  }
 ],
 "metadata": {
  "kernelspec": {
   "display_name": "Python 3",
   "language": "python",
   "name": "python3"
  },
  "language_info": {
   "codemirror_mode": {
    "name": "ipython",
    "version": 3
   },
   "file_extension": ".py",
   "mimetype": "text/x-python",
   "name": "python",
   "nbconvert_exporter": "python",
   "pygments_lexer": "ipython3",
   "version": "3.9.2"
  }
 },
 "nbformat": 4,
 "nbformat_minor": 5
}
