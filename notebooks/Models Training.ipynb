{
 "cells": [
  {
   "cell_type": "markdown",
   "id": "needed-county",
   "metadata": {},
   "source": [
    "## Training Different Model"
   ]
  },
  {
   "cell_type": "code",
   "execution_count": 3,
   "id": "ordinary-albuquerque",
   "metadata": {},
   "outputs": [],
   "source": [
    "import pandas as pd"
   ]
  },
  {
   "cell_type": "code",
   "execution_count": 4,
   "id": "alike-involvement",
   "metadata": {},
   "outputs": [],
   "source": [
    "from sklearn.model_selection import train_test_split"
   ]
  },
  {
   "cell_type": "code",
   "execution_count": 5,
   "id": "cultural-kingston",
   "metadata": {},
   "outputs": [],
   "source": [
    "import os"
   ]
  },
  {
   "cell_type": "code",
   "execution_count": 6,
   "id": "connected-contractor",
   "metadata": {},
   "outputs": [
    {
     "data": {
      "text/plain": [
       "'D:\\\\KU\\\\7th Sem\\\\Machine Learning\\\\Project\\\\sandstone_segmentation\\\\data\\\\processed\\\\final_dataset.csv'"
      ]
     },
     "execution_count": 6,
     "metadata": {},
     "output_type": "execute_result"
    }
   ],
   "source": [
    "dataset_path = 'D:\\\\KU\\\\7th Sem\\\\Machine Learning\\\\Project\\\\sandstone_segmentation\\\\data\\\\processed\\\\final_dataset.csv'\n",
    "dataset_path"
   ]
  },
  {
   "cell_type": "code",
   "execution_count": 7,
   "id": "listed-understanding",
   "metadata": {},
   "outputs": [],
   "source": [
    "final_dataframe = pd.read_csv(dataset_path)"
   ]
  },
  {
   "cell_type": "code",
   "execution_count": 8,
   "id": "first-norway",
   "metadata": {},
   "outputs": [],
   "source": [
    "X = final_dataframe.drop('Mask_label', axis = 1)\n",
    "y = final_dataframe['Mask_label']"
   ]
  },
  {
   "cell_type": "code",
   "execution_count": 9,
   "id": "previous-gibson",
   "metadata": {},
   "outputs": [],
   "source": [
    "X_train, X_test, y_train, y_test = train_test_split(X, y, test_size=0.33, random_state=101)"
   ]
  },
  {
   "cell_type": "code",
   "execution_count": 10,
   "id": "proprietary-hardwood",
   "metadata": {},
   "outputs": [],
   "source": [
    "from sklearn.tree import DecisionTreeClassifier"
   ]
  },
  {
   "cell_type": "code",
   "execution_count": 11,
   "id": "acknowledged-keyboard",
   "metadata": {},
   "outputs": [],
   "source": [
    "dtree = DecisionTreeClassifier()"
   ]
  },
  {
   "cell_type": "code",
   "execution_count": 13,
   "id": "breathing-atlanta",
   "metadata": {},
   "outputs": [
    {
     "data": {
      "text/plain": [
       "DecisionTreeClassifier()"
      ]
     },
     "execution_count": 13,
     "metadata": {},
     "output_type": "execute_result"
    }
   ],
   "source": [
    "dtree.fit(X_train, y_train)"
   ]
  },
  {
   "cell_type": "code",
   "execution_count": 14,
   "id": "honest-highlight",
   "metadata": {},
   "outputs": [],
   "source": [
    "predictions = dtree.predict(X_test)"
   ]
  },
  {
   "cell_type": "code",
   "execution_count": 15,
   "id": "transsexual-yesterday",
   "metadata": {},
   "outputs": [],
   "source": [
    "from sklearn.metrics import classification_report"
   ]
  },
  {
   "cell_type": "code",
   "execution_count": 16,
   "id": "copyrighted-allergy",
   "metadata": {},
   "outputs": [
    {
     "name": "stdout",
     "output_type": "stream",
     "text": [
      "              precision    recall  f1-score   support\n",
      "\n",
      "          29       0.99      0.99      0.99    829196\n",
      "          76       0.99      0.99      0.99    776153\n",
      "         150       0.77      0.78      0.78     58567\n",
      "         226       0.98      0.98      0.98     18926\n",
      "\n",
      "    accuracy                           0.98   1682842\n",
      "   macro avg       0.93      0.93      0.93   1682842\n",
      "weighted avg       0.98      0.98      0.98   1682842\n",
      "\n"
     ]
    }
   ],
   "source": [
    "print(classification_report(y_test, predictions))"
   ]
  },
  {
   "cell_type": "code",
   "execution_count": null,
   "id": "chicken-hardware",
   "metadata": {},
   "outputs": [],
   "source": []
  }
 ],
 "metadata": {
  "kernelspec": {
   "display_name": "Python 3",
   "language": "python",
   "name": "python3"
  },
  "language_info": {
   "codemirror_mode": {
    "name": "ipython",
    "version": 3
   },
   "file_extension": ".py",
   "mimetype": "text/x-python",
   "name": "python",
   "nbconvert_exporter": "python",
   "pygments_lexer": "ipython3",
   "version": "3.9.2"
  }
 },
 "nbformat": 4,
 "nbformat_minor": 5
}
